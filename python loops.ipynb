{
 "cells": [
  {
   "cell_type": "code",
   "execution_count": 27,
   "id": "3408c5c9",
   "metadata": {},
   "outputs": [
    {
     "name": "stdout",
     "output_type": "stream",
     "text": [
      "enter stringqwert\n",
      "trewq\n"
     ]
    }
   ],
   "source": [
    "x=str(input(\"enter string\"))\n",
    "a=\"\"\n",
    "n=len(x)-1\n",
    "while n>=0:\n",
    "    a=a+(x[n])\n",
    "    n=n-1\n",
    "print(a) \n",
    "   \n",
    "    "
   ]
  },
  {
   "cell_type": "code",
   "execution_count": 54,
   "id": "b895ba13",
   "metadata": {},
   "outputs": [
    {
     "name": "stdout",
     "output_type": "stream",
     "text": [
      "Enter the upper limit \n",
      "0\n",
      "Enter the lower limit \n",
      "15\n",
      "Enter the divisor \n",
      "2\n",
      "0\n",
      "2\n",
      "4\n",
      "6\n",
      "8\n",
      "10\n",
      "12\n",
      "14\n"
     ]
    }
   ],
   "source": [
    "x=int(input(\"Enter the upper limit \\n\"))\n",
    "y=int(input(\"Enter the lower limit \\n\"))\n",
    "z=int(input(\"Enter the divisor \\n\"))\n",
    "for m in range(x,y+1):\n",
    "    if m%z==0:\n",
    "        print(m)"
   ]
  },
  {
   "cell_type": "code",
   "execution_count": 53,
   "id": "b342a005",
   "metadata": {},
   "outputs": [
    {
     "name": "stdout",
     "output_type": "stream",
     "text": [
      "Enter the first side 3\n",
      "Enter the second side 4\n",
      "Enter the third side 5\n",
      "6.0\n"
     ]
    }
   ],
   "source": [
    "a= int(input(\"Enter the first side \"))\n",
    "b= int(input(\"Enter the second side \"))\n",
    "c= int(input(\"Enter the third side \"))\n",
    "import math\n",
    "if a+b>c and a+c>b and b+c>a:\n",
    "    s= (a+b+c)/2\n",
    "    area = math.sqrt(s*(s-a)*(s-b)*(s-c))\n",
    "    print(area)\n",
    "else:\n",
    "    print(\"triangle not possible\")"
   ]
  },
  {
   "cell_type": "code",
   "execution_count": 46,
   "id": "4ea0fb6f",
   "metadata": {},
   "outputs": [
    {
     "name": "stdout",
     "output_type": "stream",
     "text": [
      "* \n",
      "* * \n",
      "* * * \n",
      "* * * * \n",
      "* * * * * \n",
      "* * * * \n",
      "* * * \n",
      "* * \n",
      "* \n"
     ]
    }
   ],
   "source": [
    "y=\"* \"\n",
    "n=1\n",
    "m=4\n",
    "while n<6:\n",
    "    p=n*y \n",
    "    print(p)\n",
    "    n=n+1\n",
    "    if n==6:\n",
    "        while m>0:\n",
    "            l=m*y\n",
    "            print(l)\n",
    "            m=m-1\n",
    "\n",
    "\n",
    "\n",
    "\n",
    "        "
   ]
  },
  {
   "cell_type": "code",
   "execution_count": 70,
   "id": "02411a4d",
   "metadata": {},
   "outputs": [
    {
     "name": "stdout",
     "output_type": "stream",
     "text": [
      "Enter no. of rows10\n",
      "A\n",
      "BC\n",
      "DEF\n",
      "GHIJ\n",
      "KLMNO\n",
      "PQRSTU\n",
      "VWXYZAB\n",
      "CDEFGHIJ\n",
      "KLMNOPQRS\n"
     ]
    }
   ],
   "source": [
    "y=\"ABCDEFGHIJKLMNOPQRSTUVWXYZ\"\n",
    "n=int(input(\"Enter no. of rows\"))\n",
    "t=0\n",
    "m=1\n",
    "c=1\n",
    "u=0\n",
    "s= n*(n+1)/2\n",
    "while m<s:\n",
    "    print(y[t:m])\n",
    "    u=u+1\n",
    "    t=t+u\n",
    "    c=c+1\n",
    "    m=m+c\n",
    "    if s>25:\n",
    "        y=int(s//25)*y\n",
    "    \n",
    "    \n",
    "    "
   ]
  },
  {
   "cell_type": "code",
   "execution_count": 42,
   "id": "8cadf2e8",
   "metadata": {},
   "outputs": [
    {
     "name": "stdout",
     "output_type": "stream",
     "text": [
      "Please, Enter the Lowest Range Value: 3\n",
      "Please, Enter the Upper Range Value: 11\n",
      "The Prime Numbers in the range are: \n",
      "3\n",
      "5\n",
      "7\n",
      "11\n"
     ]
    }
   ],
   "source": [
    "lower_value = int(input (\"Please, Enter the Lowest Range Value: \"))  \n",
    "upper_value = int(input (\"Please, Enter the Upper Range Value: \"))  \n",
    "  \n",
    "print (\"The Prime Numbers in the range are: \")  \n",
    "for number in range (lower_value, upper_value + 1):  \n",
    "    if number > 1:  \n",
    "        for i in range (2, number):  \n",
    "            if (number % i) == 0:  \n",
    "                break  \n",
    "        else:  \n",
    "            print (number)  "
   ]
  },
  {
   "cell_type": "code",
   "execution_count": 4,
   "id": "ed233a9c",
   "metadata": {},
   "outputs": [
    {
     "name": "stdout",
     "output_type": "stream",
     "text": [
      "77\n",
      "154\n",
      "231\n",
      "308\n",
      "385\n",
      "462\n"
     ]
    }
   ],
   "source": [
    "for x in range(7,500,7):\n",
    "    if x%11==0:\n",
    "        print(x)"
   ]
  },
  {
   "cell_type": "code",
   "execution_count": 32,
   "id": "e93b1cda",
   "metadata": {},
   "outputs": [
    {
     "name": "stdout",
     "output_type": "stream",
     "text": [
      "s.no. 1  \n",
      "12\n",
      "+ve no.\n",
      "even no.\n",
      "['12']\n",
      "no. of occurrences =  1\n",
      "s.no. 2  \n",
      "12\n",
      "+ve no.\n",
      "even no.\n",
      "['12', '12']\n",
      "no. of occurrences =  2\n",
      "s.no. 3  \n",
      "12\n",
      "+ve no.\n",
      "even no.\n",
      "['12', '12', '12']\n",
      "no. of occurrences =  3\n",
      "s.no. 4  \n",
      "-1\n",
      "-ve no.\n",
      "odd no.\n",
      "['12', '12', '12', '-1']\n",
      "no. of occurrences =  1\n",
      "s.no. 5  \n",
      "13\n",
      "+ve no.\n",
      "odd no.\n",
      "['12', '12', '12', '-1', '13']\n",
      "no. of occurrences =  1\n",
      "s.no. 6  \n"
     ]
    },
    {
     "ename": "KeyboardInterrupt",
     "evalue": "Interrupted by user",
     "output_type": "error",
     "traceback": [
      "\u001b[1;31m---------------------------------------------------------------------------\u001b[0m",
      "\u001b[1;31mKeyboardInterrupt\u001b[0m                         Traceback (most recent call last)",
      "\u001b[1;32m~\\AppData\\Local\\Temp/ipykernel_7184/4148677512.py\u001b[0m in \u001b[0;36m<module>\u001b[1;34m\u001b[0m\n\u001b[0;32m      6\u001b[0m \u001b[1;32mwhile\u001b[0m \u001b[0mn\u001b[0m\u001b[1;33m<\u001b[0m\u001b[1;36m10\u001b[0m\u001b[1;33m:\u001b[0m\u001b[1;33m\u001b[0m\u001b[1;33m\u001b[0m\u001b[0m\n\u001b[0;32m      7\u001b[0m     \u001b[0mprint\u001b[0m\u001b[1;33m(\u001b[0m\u001b[0ma\u001b[0m\u001b[1;33m,\u001b[0m\u001b[0mn\u001b[0m\u001b[1;33m,\u001b[0m\u001b[1;34m\" \"\u001b[0m\u001b[1;33m)\u001b[0m\u001b[1;33m\u001b[0m\u001b[1;33m\u001b[0m\u001b[0m\n\u001b[1;32m----> 8\u001b[1;33m     \u001b[0mx\u001b[0m\u001b[1;33m=\u001b[0m\u001b[0mint\u001b[0m\u001b[1;33m(\u001b[0m\u001b[0minput\u001b[0m\u001b[1;33m(\u001b[0m\u001b[1;33m)\u001b[0m\u001b[1;33m)\u001b[0m\u001b[1;33m\u001b[0m\u001b[1;33m\u001b[0m\u001b[0m\n\u001b[0m\u001b[0;32m      9\u001b[0m     \u001b[1;32mif\u001b[0m \u001b[0mx\u001b[0m\u001b[1;33m>\u001b[0m\u001b[1;36m0\u001b[0m\u001b[1;33m:\u001b[0m\u001b[1;33m\u001b[0m\u001b[1;33m\u001b[0m\u001b[0m\n\u001b[0;32m     10\u001b[0m         \u001b[0mprint\u001b[0m\u001b[1;33m(\u001b[0m\u001b[1;34m'+ve no.'\u001b[0m\u001b[1;33m)\u001b[0m\u001b[1;33m\u001b[0m\u001b[1;33m\u001b[0m\u001b[0m\n",
      "\u001b[1;32m~\\anaconda3\\lib\\site-packages\\ipykernel\\kernelbase.py\u001b[0m in \u001b[0;36mraw_input\u001b[1;34m(self, prompt)\u001b[0m\n\u001b[0;32m   1004\u001b[0m                 \u001b[1;34m\"raw_input was called, but this frontend does not support input requests.\"\u001b[0m\u001b[1;33m\u001b[0m\u001b[1;33m\u001b[0m\u001b[0m\n\u001b[0;32m   1005\u001b[0m             )\n\u001b[1;32m-> 1006\u001b[1;33m         return self._input_request(\n\u001b[0m\u001b[0;32m   1007\u001b[0m             \u001b[0mstr\u001b[0m\u001b[1;33m(\u001b[0m\u001b[0mprompt\u001b[0m\u001b[1;33m)\u001b[0m\u001b[1;33m,\u001b[0m\u001b[1;33m\u001b[0m\u001b[1;33m\u001b[0m\u001b[0m\n\u001b[0;32m   1008\u001b[0m             \u001b[0mself\u001b[0m\u001b[1;33m.\u001b[0m\u001b[0m_parent_ident\u001b[0m\u001b[1;33m[\u001b[0m\u001b[1;34m\"shell\"\u001b[0m\u001b[1;33m]\u001b[0m\u001b[1;33m,\u001b[0m\u001b[1;33m\u001b[0m\u001b[1;33m\u001b[0m\u001b[0m\n",
      "\u001b[1;32m~\\anaconda3\\lib\\site-packages\\ipykernel\\kernelbase.py\u001b[0m in \u001b[0;36m_input_request\u001b[1;34m(self, prompt, ident, parent, password)\u001b[0m\n\u001b[0;32m   1049\u001b[0m             \u001b[1;32mexcept\u001b[0m \u001b[0mKeyboardInterrupt\u001b[0m\u001b[1;33m:\u001b[0m\u001b[1;33m\u001b[0m\u001b[1;33m\u001b[0m\u001b[0m\n\u001b[0;32m   1050\u001b[0m                 \u001b[1;31m# re-raise KeyboardInterrupt, to truncate traceback\u001b[0m\u001b[1;33m\u001b[0m\u001b[1;33m\u001b[0m\u001b[0m\n\u001b[1;32m-> 1051\u001b[1;33m                 \u001b[1;32mraise\u001b[0m \u001b[0mKeyboardInterrupt\u001b[0m\u001b[1;33m(\u001b[0m\u001b[1;34m\"Interrupted by user\"\u001b[0m\u001b[1;33m)\u001b[0m \u001b[1;32mfrom\u001b[0m \u001b[1;32mNone\u001b[0m\u001b[1;33m\u001b[0m\u001b[1;33m\u001b[0m\u001b[0m\n\u001b[0m\u001b[0;32m   1052\u001b[0m             \u001b[1;32mexcept\u001b[0m \u001b[0mException\u001b[0m\u001b[1;33m:\u001b[0m\u001b[1;33m\u001b[0m\u001b[1;33m\u001b[0m\u001b[0m\n\u001b[0;32m   1053\u001b[0m                 \u001b[0mself\u001b[0m\u001b[1;33m.\u001b[0m\u001b[0mlog\u001b[0m\u001b[1;33m.\u001b[0m\u001b[0mwarning\u001b[0m\u001b[1;33m(\u001b[0m\u001b[1;34m\"Invalid Message:\"\u001b[0m\u001b[1;33m,\u001b[0m \u001b[0mexc_info\u001b[0m\u001b[1;33m=\u001b[0m\u001b[1;32mTrue\u001b[0m\u001b[1;33m)\u001b[0m\u001b[1;33m\u001b[0m\u001b[1;33m\u001b[0m\u001b[0m\n",
      "\u001b[1;31mKeyboardInterrupt\u001b[0m: Interrupted by user"
     ]
    }
   ],
   "source": [
    "a=\"s.no.\"\n",
    "n=1\n",
    "lis=[]\n",
    "\n",
    "\n",
    "while n<10:\n",
    "    print(a,n,\" \")\n",
    "    x=int(input())\n",
    "    if x>0:\n",
    "        print('+ve no.')\n",
    "    if x<0:\n",
    "         print('-ve no.')\n",
    "    if x%2!=0:\n",
    "        print('odd no.')\n",
    "    if x%2==0:\n",
    "        print('even no.')\n",
    "    lis.append(str(x))\n",
    "    print(lis)\n",
    "    print(\"no. of occurrences = \",lis.count(str(x)))\n",
    "    n=n+1\n",
    "    \n",
    "        \n",
    "    "
   ]
  },
  {
   "cell_type": "code",
   "execution_count": 41,
   "id": "64948a42",
   "metadata": {},
   "outputs": [
    {
     "name": "stdout",
     "output_type": "stream",
     "text": [
      "enter string yes\n",
      "['yes']\n",
      "no. of occurrences of  yes 1\n",
      "do you want to enter more info y or n \n",
      "y\n",
      "enter string no\n",
      "['yes', 'no']\n",
      "no. of occurrences of  no 1\n",
      "do you want to enter more info y or n \n",
      "yes\n",
      "enter valid ans\n"
     ]
    }
   ],
   "source": [
    "x=[]\n",
    "o=\"y\"\n",
    "d=[\"y\",\"Y\",\"n\",\"N\"]\n",
    "while o==\"y\" or o==\"Y\":\n",
    "    y=str((input(\"enter string \")))\n",
    "    x.append(y)\n",
    "    print(x)\n",
    "    print(\"no. of occurrences of \",y,x.count(y))\n",
    "    o=input(\"do you want to enter more info y or n \\n\")\n",
    "    if o not in d:\n",
    "        print(\"enter valid ans\")\n",
    "    "
   ]
  },
  {
   "cell_type": "code",
   "execution_count": null,
   "id": "039ef2b5",
   "metadata": {},
   "outputs": [],
   "source": []
  }
 ],
 "metadata": {
  "kernelspec": {
   "display_name": "Python 3 (ipykernel)",
   "language": "python",
   "name": "python3"
  },
  "language_info": {
   "codemirror_mode": {
    "name": "ipython",
    "version": 3
   },
   "file_extension": ".py",
   "mimetype": "text/x-python",
   "name": "python",
   "nbconvert_exporter": "python",
   "pygments_lexer": "ipython3",
   "version": "3.9.7"
  }
 },
 "nbformat": 4,
 "nbformat_minor": 5
}
