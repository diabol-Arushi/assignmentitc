{
 "cells": [
  {
   "cell_type": "code",
   "execution_count": null,
   "id": "b8830d1a",
   "metadata": {},
   "outputs": [],
   "source": [
    "n=int(input('Please enter a number: '))\n",
    "\n",
    "def perfect_number(n):\n",
    "    sum = 0\n",
    "    for x in range(1, n):\n",
    "        if n % x == 0:\n",
    "            sum += x\n",
    "    return sum == n\n",
    "\n",
    "print(perfect_number(n))"
   ]
  },
  {
   "cell_type": "code",
   "execution_count": null,
   "id": "e45bcda1",
   "metadata": {},
   "outputs": [],
   "source": [
    "my_str=str(input('Please enter the string:'))\n",
    "    \n",
    "my_str1=my_str.replace(' ','') \n",
    "low1=my_str1.lower()\n",
    "lis1=list(low1)\n",
    "lis2=''.join(lis1)\n",
    "rev_list=reversed(lis2)\n",
    "if list(lis2)==list(rev_list):\n",
    "        print(my_str,'is a Palindrome.')\n",
    "else:   print(my_str,'is not a Palindrome.')"
   ]
  },
  {
   "cell_type": "code",
   "execution_count": null,
   "id": "a32b86fa",
   "metadata": {},
   "outputs": [],
   "source": [
    "n = int(input(\"Please enter the number of rows of Pascal's triangle: \"))\n",
    "for i in range(0,n):\n",
    "    for j in range(n-i+1):\n",
    "        print(end=\" \")\n",
    "    from math import factorial\n",
    "    for j in range(0,i+1):\n",
    "        print(factorial(i)//(factorial(j)*factorial(i-j)), end=\" \")\n",
    " \n",
    "    print()"
   ]
  },
  {
   "cell_type": "code",
   "execution_count": null,
   "id": "0a520736",
   "metadata": {},
   "outputs": [],
   "source": [
    "my_str=str(input('Please enter the string: '))\n",
    "def pangram(my_str):\n",
    "    alphabets='abcdefghijklmnopqrstuvwxyz'\n",
    "    for char in alphabets:\n",
    "        if char not in my_str.lower():\n",
    "            return False\n",
    "    return True\n",
    "\n",
    "if (pangram(my_str)) is True:\n",
    "    print(my_str,'is a Pangram.')\n",
    "else:\n",
    "    print(my_str,'is not a Pangram.')"
   ]
  },
  {
   "cell_type": "code",
   "execution_count": null,
   "id": "2ec9be42",
   "metadata": {},
   "outputs": [],
   "source": [
    "items=[n for n in input('Please enter the list: ').split('-')]\n",
    "items.sort()\n",
    "print('-'.join(items))\n"
   ]
  },
  {
   "cell_type": "code",
   "execution_count": null,
   "id": "08f383ca",
   "metadata": {},
   "outputs": [],
   "source": [
    "def student_data(info_needed):\n",
    "    directory = {\"student_id\":\"22105030\",\n",
    "    \"student_name\" : \"Arushi\",\n",
    "    \"student_stream\": \"ECE\"}\n",
    "    print(directory.get(f'{info_needed}'))\n",
    "\n",
    "\n",
    "student_data(str(input('What do you want to know?')))"
   ]
  },
  {
   "cell_type": "code",
   "execution_count": 4,
   "id": "18d25c8e",
   "metadata": {},
   "outputs": [
    {
     "name": "stdout",
     "output_type": "stream",
     "text": [
      "True\n",
      "False\n",
      "True\n",
      "False\n",
      "\n",
      "Check whether the said classes are subclasses of the built-in object class or not.\n",
      "True\n",
      "True\n"
     ]
    }
   ],
   "source": [
    "class Student:\n",
    "    pass\n",
    "\n",
    "\n",
    "class Marks:\n",
    "    pass\n",
    "\n",
    "\n",
    "student1 = Student()\n",
    "marks1 = Marks()\n",
    "\n",
    "\n",
    "#The isinstance() function returns True if the specified object is of the specified type, otherwise False\n",
    "print(isinstance(student1, Student))\n",
    "print(isinstance(marks1, Student))\n",
    "print(isinstance(marks1, Marks))\n",
    "print(isinstance(student1, Marks))\n",
    "print(\"\\nCheck whether the said classes are subclasses of the built-in object class or not.\")\n",
    "print(issubclass(Student, object))\n",
    "print(issubclass(Marks, object))"
   ]
  },
  {
   "cell_type": "code",
   "execution_count": 3,
   "id": "ff416f21",
   "metadata": {},
   "outputs": [
    {
     "name": "stdout",
     "output_type": "stream",
     "text": [
      "[[-10, 2, 8], [-7, -3, 10]]\n"
     ]
    }
   ],
   "source": [
    "class py:\n",
    "    def threeSum(self, nums):\n",
    "        nums, result, i = sorted(nums), [], 0\n",
    "        while i < len(nums) - 2:\n",
    "            j, k = i + 1, len(nums) - 1\n",
    "            while j < k:\n",
    "                if nums[i] + nums[j] + nums[k] < 0:\n",
    "                    j += 1\n",
    "                elif nums[i] + nums[j] + nums[k] > 0:\n",
    "                    k -= 1\n",
    "                else:\n",
    "                    result.append([nums[i], nums[j], nums[k]])\n",
    "                    j, k = j + 1, k - 1\n",
    "                    while j < k and nums[j] == nums[j - 1]:\n",
    "                        j += 1\n",
    "                    while j < k and nums[k] == nums[k + 1]:\n",
    "                        k -= 1\n",
    "            i += 1\n",
    "            while i < len(nums) - 2 and nums[i] == nums[i - 1]:\n",
    "                i += 1\n",
    "        return result\n",
    "\n",
    "\n",
    "print(py().threeSum([-25, -10, -7, -3, 2, 4, 8, 10]))"
   ]
  },
  {
   "cell_type": "code",
   "execution_count": 6,
   "id": "fbef5806",
   "metadata": {},
   "outputs": [
    {
     "name": "stdout",
     "output_type": "stream",
     "text": [
      "enter : badass\n",
      "badass - is Unbalanced\n"
     ]
    }
   ],
   "source": [
    "class validity:\n",
    "\n",
    "    def f(string):\n",
    "\n",
    "        a = ['()', '{}', '[]']\n",
    "\n",
    "        while any(i in string for i in a):\n",
    "\n",
    "            for j in a:\n",
    "\n",
    "                string = string.replace(j, '')\n",
    "\n",
    "        return not string\n",
    "\n",
    "\n",
    "s = input(\"enter : \")\n",
    "\n",
    "print(s, \"-\", \"is balanced\"\n",
    "\n",
    "      if validity.f(s)\n",
    "      else \"is Unbalanced\")"
   ]
  },
  {
   "cell_type": "code",
   "execution_count": null,
   "id": "30b896d5",
   "metadata": {},
   "outputs": [],
   "source": []
  }
 ],
 "metadata": {
  "kernelspec": {
   "display_name": "Python 3 (ipykernel)",
   "language": "python",
   "name": "python3"
  },
  "language_info": {
   "codemirror_mode": {
    "name": "ipython",
    "version": 3
   },
   "file_extension": ".py",
   "mimetype": "text/x-python",
   "name": "python",
   "nbconvert_exporter": "python",
   "pygments_lexer": "ipython3",
   "version": "3.9.13"
  }
 },
 "nbformat": 4,
 "nbformat_minor": 5
}
