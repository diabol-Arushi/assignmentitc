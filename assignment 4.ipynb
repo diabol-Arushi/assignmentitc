{
 "cells": [
  {
   "cell_type": "code",
   "execution_count": 6,
   "id": "ad312ee7",
   "metadata": {},
   "outputs": [
    {
     "name": "stdout",
     "output_type": "stream",
     "text": [
      "enter marks \n",
      "87\n",
      "Grade:  A\n"
     ]
    }
   ],
   "source": [
    "x=int(input(\"enter marks \\n\"))\n",
    "if 0<=x<25:\n",
    "    y=\"F\"\n",
    "if 25<=x<45:\n",
    "    y=\"E\"\n",
    "elif 45<=x<50:\n",
    "    y=\"D\"\n",
    "elif 50<=x<60:\n",
    "    y=\"C\"\n",
    "elif 60<=x<80:\n",
    "    y=\"B\"\n",
    "elif 80<=x<=100:\n",
    "    y=\"A\"\n",
    "else:\n",
    "    print(\"invalid marks\")\n",
    "print(\"Grade: \",y)\n",
    "    "
   ]
  },
  {
   "cell_type": "code",
   "execution_count": 11,
   "id": "f8565b33",
   "metadata": {},
   "outputs": [
    {
     "name": "stdout",
     "output_type": "stream",
     "text": [
      "ENTER YEAR IN THOUSANDS \n",
      "2000\n",
      "2000  is a leap year\n"
     ]
    }
   ],
   "source": [
    "x=int(input(\"ENTER YEAR IN THOUSANDS \\n\"))\n",
    "if x%4==0 and x%100!=0:\n",
    "    print(x,\" is a leap year\")\n",
    "elif x%100==0 and x%400==0:\n",
    "    print(x,\" is a leap year\")\n",
    "elif x%100==0 and x%400!=0:\n",
    "    print(x,\" is not a leap year\")\n",
    "elif x%4!=0:\n",
    "    print(x,\" is not a leap year\")\n",
    "elif x<1000:\n",
    "    print(\"year not in thousands\")\n"
   ]
  },
  {
   "cell_type": "code",
   "execution_count": 20,
   "id": "6315bb6c",
   "metadata": {},
   "outputs": [
    {
     "name": "stdout",
     "output_type": "stream",
     "text": [
      "question 1 : 8 X 9 =\n",
      "78\n",
      "Wrong,the answer is 72\n",
      "question 2 : 4 X 5 =\n",
      "98\n",
      "Wrong,the answer is 20\n",
      "question 3 : 10 X 2 =\n",
      "07\n",
      "Wrong,the answer is 20\n",
      "question 4 : 1 X 4 =\n",
      "55\n",
      "Wrong,the answer is 4\n",
      "question 5 : 5 X 7 =\n",
      "67\n",
      "Wrong,the answer is 35\n",
      "question 6 : 2 X 3 =\n",
      "46\n",
      "Wrong,the answer is 6\n",
      "question 7 : 3 X 1 =\n",
      "456\n",
      "Wrong,the answer is 3\n",
      "question 8 : 3 X 9 =\n",
      "567\n",
      "Wrong,the answer is 27\n",
      "question 9 : 9 X 2 =\n",
      "567\n",
      "Wrong,the answer is 18\n",
      "question 10 : 3 X 9 =\n",
      "789\n",
      "Wrong,the answer is 27\n"
     ]
    }
   ],
   "source": [
    "\n",
    "import random\n",
    "l=1\n",
    "while l<11:\n",
    "    x=random.randint(1,10)\n",
    "    y=random.randint(1,10)\n",
    "    print(\"question\",l,\":\",x,\"X\",y,\"=\")\n",
    "    a=int(input())\n",
    "   \n",
    "    if a==x*y:\n",
    "        print(\"Right\")\n",
    "    else:\n",
    "        print(\"Wrong,the answer is\",x*y)\n",
    "    l=l+1\n",
    "    "
   ]
  },
  {
   "cell_type": "code",
   "execution_count": 26,
   "id": "0492c365",
   "metadata": {},
   "outputs": [
    {
     "name": "stdout",
     "output_type": "stream",
     "text": [
      "177\n"
     ]
    }
   ],
   "source": [
    "for x in range(200):\n",
    "    if x%5==2 and x%6==3 and x%7==2:\n",
    "        print(x)"
   ]
  },
  {
   "cell_type": "code",
   "execution_count": null,
   "id": "67477357",
   "metadata": {},
   "outputs": [],
   "source": []
  }
 ],
 "metadata": {
  "kernelspec": {
   "display_name": "Python 3 (ipykernel)",
   "language": "python",
   "name": "python3"
  },
  "language_info": {
   "codemirror_mode": {
    "name": "ipython",
    "version": 3
   },
   "file_extension": ".py",
   "mimetype": "text/x-python",
   "name": "python",
   "nbconvert_exporter": "python",
   "pygments_lexer": "ipython3",
   "version": "3.9.13"
  }
 },
 "nbformat": 4,
 "nbformat_minor": 5
}
